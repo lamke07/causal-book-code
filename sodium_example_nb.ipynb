{
 "cells": [
  {
   "cell_type": "code",
   "execution_count": 2,
   "metadata": {},
   "outputs": [],
   "source": [
    "import numpy as np\n",
    "import pandas as pd\n",
    "from sklearn.linear_model import LinearRegression"
   ]
  },
  {
   "cell_type": "code",
   "execution_count": 3,
   "metadata": {
    "pycharm": {
     "name": "#%%\n"
    }
   },
   "outputs": [],
   "source": [
    "def generate_data(n=1000, seed=0, beta1=1.05, alpha1=0.4, alpha2=0.3, binary_treatment=True, binary_cutoff=3.5):\n",
    "    np.random.seed(seed)\n",
    "    age = np.random.normal(65, 5, n)\n",
    "    sodium = age / 18 + np.random.normal(size=n)\n",
    "    if binary_treatment:\n",
    "        if binary_cutoff is None:\n",
    "            binary_cutoff = sodium.mean()\n",
    "        sodium = (sodium > binary_cutoff).astype(int)\n",
    "    blood_pressure = beta1 * sodium + 2 * age + np.random.normal(size=n)\n",
    "    proteinuria = alpha1 * sodium + alpha2 * blood_pressure + np.random.normal(size=n)\n",
    "    hypertension = (blood_pressure >= 140).astype(int)  # not used, but could be used for binary outcomes\n",
    "    return pd.DataFrame({'blood_pressure': blood_pressure, 'sodium': sodium,\n",
    "                         'age': age, 'proteinuria': proteinuria})"
   ]
  },
  {
   "cell_type": "code",
   "execution_count": 6,
   "metadata": {
    "pycharm": {
     "name": "#%%\n"
    }
   },
   "outputs": [],
   "source": [
    "def estimate_causal_effect(Xt, y, model=LinearRegression(), treatment_idx=0, regression_coef=False):\n",
    "    model.fit(Xt, y)\n",
    "    if regression_coef:\n",
    "        return model.coef_[treatment_idx]\n",
    "    else:\n",
    "        Xt1 = pd.DataFrame.copy(Xt)\n",
    "        Xt1[Xt.columns[treatment_idx]] = 1\n",
    "        Xt0 = pd.DataFrame.copy(Xt)\n",
    "        Xt0[Xt.columns[treatment_idx]] = 0\n",
    "        return (model.predict(Xt1) - model.predict(Xt0)).mean()"
   ]
  },
  {
   "cell_type": "code",
   "execution_count": 7,
   "metadata": {
    "pycharm": {
     "name": "#%%\n"
    }
   },
   "outputs": [
    {
     "name": "stdout",
     "output_type": "stream",
     "text": [
      "\n",
      "### Binary Treatment Data ###\n",
      "\n",
      "# Adjustment Formula Estimates #\n",
      "Naive ATE estimate:\t\t\t\t\t\t\t 5.328501680864975\n",
      "ATE estimate adjusting for all covariates:\t 0.8537946431496247\n",
      "ATE estimate adjusting for age:\t\t\t\t 1.0502124539715112\n",
      "\n",
      "# Regression Coefficient Estimates #\n",
      "Naive ATE estimate:\t\t\t\t\t\t\t 5.328501680864993\n",
      "ATE estimate adjusting for all covariates:\t 0.8537946431496208\n",
      "ATE estimate adjusting for age:\t\t\t\t 1.0502124539715163\n",
      "\n",
      "\n",
      "### Continuous Treatment Data ###\n",
      "\n",
      "# Adjustment Formula Estimates #\n",
      "Naive ATE estimate:\t\t\t\t\t\t\t 3.6283781959781534\n",
      "ATE estimate adjusting for all covariates:\t 0.8532920319407593\n",
      "ATE estimate adjusting for age:\t\t\t\t 1.0497716562238106\n",
      "\n",
      "# Regression Coefficient Estimates #\n",
      "Naive ATE estimate:\t\t\t\t\t\t\t 3.628378195978059\n",
      "ATE estimate adjusting for all covariates:\t 0.8532920319407419\n",
      "ATE estimate adjusting for age:\t\t\t\t 1.0497716562238018\n",
      "\n"
     ]
    }
   ],
   "source": [
    "if __name__ == '__main__':\n",
    "    binary_t_df = generate_data(beta1=1.05, alpha1=.4, alpha2=.3, binary_treatment=True, n=10000000)\n",
    "    continuous_t_df = generate_data(beta1=1.05, alpha1=.4, alpha2=.3, binary_treatment=False, n=10000000)\n",
    "\n",
    "    ate_est_naive = None\n",
    "    ate_est_adjust_all = None\n",
    "    ate_est_adjust_age = None\n",
    "\n",
    "    for df, name in zip([binary_t_df, continuous_t_df],\n",
    "                        ['Binary Treatment Data', 'Continuous Treatment Data']):\n",
    "        print()\n",
    "        print('### {} ###'.format(name))\n",
    "        print()\n",
    "\n",
    "        # Adjustment formula estimates\n",
    "        ate_est_naive = estimate_causal_effect(df[['sodium']], df['blood_pressure'], treatment_idx=0)\n",
    "        ate_est_adjust_all = estimate_causal_effect(df[['sodium', 'age', 'proteinuria']],\n",
    "                                                    df['blood_pressure'], treatment_idx=0)\n",
    "        ate_est_adjust_age = estimate_causal_effect(df[['sodium', 'age']], df['blood_pressure'])\n",
    "        print('# Adjustment Formula Estimates #')\n",
    "        print('Naive ATE estimate:\\t\\t\\t\\t\\t\\t\\t', ate_est_naive)\n",
    "        print('ATE estimate adjusting for all covariates:\\t', ate_est_adjust_all)\n",
    "        print('ATE estimate adjusting for age:\\t\\t\\t\\t', ate_est_adjust_age)\n",
    "        print()\n",
    "\n",
    "        # Linear regression coefficient estimates\n",
    "        ate_est_naive = estimate_causal_effect(df[['sodium']], df['blood_pressure'], treatment_idx=0,\n",
    "                                               regression_coef=True)\n",
    "        ate_est_adjust_all = estimate_causal_effect(df[['sodium', 'age', 'proteinuria']],\n",
    "                                                    df['blood_pressure'], treatment_idx=0,\n",
    "                                                    regression_coef=True)\n",
    "        ate_est_adjust_age = estimate_causal_effect(df[['sodium', 'age']], df['blood_pressure'],\n",
    "                                                    regression_coef=True)\n",
    "        print('# Regression Coefficient Estimates #')\n",
    "        print('Naive ATE estimate:\\t\\t\\t\\t\\t\\t\\t', ate_est_naive)\n",
    "        print('ATE estimate adjusting for all covariates:\\t', ate_est_adjust_all)\n",
    "        print('ATE estimate adjusting for age:\\t\\t\\t\\t', ate_est_adjust_age)\n",
    "        print()"
   ]
  },
  {
   "cell_type": "code",
   "execution_count": 8,
   "metadata": {
    "pycharm": {
     "name": "#%%\n"
    }
   },
   "outputs": [
    {
     "name": "stdout",
     "output_type": "stream",
     "text": [
      "ATE estimate: 0.8537946431496247\n",
      "Alternative ATE estimate: [0.85379464 1.83493079 0.27512855]\n"
     ]
    }
   ],
   "source": [
    "df = generate_data(beta1=1.05, alpha1=.4, alpha2=.3, binary_treatment=True, n=10000000)\n",
    "\n",
    "Xt = df[['sodium', 'age', 'proteinuria']]\n",
    "y = df['blood_pressure']\n",
    "model = LinearRegression()\n",
    "model.fit(Xt,y)\n",
    "\n",
    "Xt1 = pd.DataFrame.copy(Xt)\n",
    "Xt1['sodium'] = 1\n",
    "Xt0 = pd.DataFrame.copy(Xt)\n",
    "Xt0['sodium'] = 0\n",
    "\n",
    "ate_est = np.mean(model.predict(Xt1) - model.predict(Xt0))\n",
    "print('ATE estimate:', ate_est)\n",
    "ate_est_alternative = model.coef_\n",
    "print('Alternative ATE estimate:', ate_est_alternative)"
   ]
  },
  {
   "cell_type": "code",
   "execution_count": null,
   "metadata": {
    "pycharm": {
     "name": "#%%\n"
    }
   },
   "outputs": [],
   "source": []
  }
 ],
 "metadata": {
  "kernelspec": {
   "display_name": "Python 3",
   "language": "python",
   "name": "python3"
  },
  "language_info": {
   "codemirror_mode": {
    "name": "ipython",
    "version": 3
   },
   "file_extension": ".py",
   "mimetype": "text/x-python",
   "name": "python",
   "nbconvert_exporter": "python",
   "pygments_lexer": "ipython3",
   "version": "3.9.5"
  }
 },
 "nbformat": 4,
 "nbformat_minor": 1
}
